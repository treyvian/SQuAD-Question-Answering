{
  "cells": [
    {
      "cell_type": "markdown",
      "metadata": {
        "id": "tgosAWNCjYxh"
      },
      "source": [
        "# SQuAD-Question-Answering\n",
        "\n",
        "## Install dependencies\n",
        "\n",
        "We will be using the Transformers library from Hugging Face which will give us a pytorch interface for working with transformers. Transformers provides APIs to quickly download and use those pretrained models on a given text, fine-tune them on your own datasets. At the same time, each python module defining an architecture is fully standalone and can be modified to enable quick research experiments.\n",
        "\n",
        "hugs Transformers is backed by the three most popular deep learning libraries — Jax, PyTorch and TensorFlow — with a seamless integration between them. We will be using ..."
      ]
    },
    {
      "cell_type": "code",
      "execution_count": 1,
      "metadata": {
        "colab": {
          "base_uri": "https://localhost:8080/"
        },
        "id": "PEEsZvr6jW61",
        "outputId": "b9fecbb9-35e8-46fe-d57c-cb1f7562ebc7"
      },
      "outputs": [
        {
          "name": "stdout",
          "output_type": "stream",
          "text": [
            "Looking in indexes: https://pypi.org/simple, https://us-python.pkg.dev/colab-wheels/public/simple/\n",
            "Requirement already satisfied: transformers in /usr/local/lib/python3.7/dist-packages (4.21.0)\n",
            "Requirement already satisfied: numpy>=1.17 in /usr/local/lib/python3.7/dist-packages (from transformers) (1.21.6)\n",
            "Requirement already satisfied: requests in /usr/local/lib/python3.7/dist-packages (from transformers) (2.23.0)\n",
            "Requirement already satisfied: huggingface-hub<1.0,>=0.1.0 in /usr/local/lib/python3.7/dist-packages (from transformers) (0.8.1)\n",
            "Requirement already satisfied: filelock in /usr/local/lib/python3.7/dist-packages (from transformers) (3.7.1)\n",
            "Requirement already satisfied: pyyaml>=5.1 in /usr/local/lib/python3.7/dist-packages (from transformers) (6.0)\n",
            "Requirement already satisfied: tokenizers!=0.11.3,<0.13,>=0.11.1 in /usr/local/lib/python3.7/dist-packages (from transformers) (0.12.1)\n",
            "Requirement already satisfied: regex!=2019.12.17 in /usr/local/lib/python3.7/dist-packages (from transformers) (2022.6.2)\n",
            "Requirement already satisfied: packaging>=20.0 in /usr/local/lib/python3.7/dist-packages (from transformers) (21.3)\n",
            "Requirement already satisfied: importlib-metadata in /usr/local/lib/python3.7/dist-packages (from transformers) (4.12.0)\n",
            "Requirement already satisfied: tqdm>=4.27 in /usr/local/lib/python3.7/dist-packages (from transformers) (4.64.0)\n",
            "Requirement already satisfied: typing-extensions>=3.7.4.3 in /usr/local/lib/python3.7/dist-packages (from huggingface-hub<1.0,>=0.1.0->transformers) (4.1.1)\n",
            "Requirement already satisfied: pyparsing!=3.0.5,>=2.0.2 in /usr/local/lib/python3.7/dist-packages (from packaging>=20.0->transformers) (3.0.9)\n",
            "Requirement already satisfied: zipp>=0.5 in /usr/local/lib/python3.7/dist-packages (from importlib-metadata->transformers) (3.8.1)\n",
            "Requirement already satisfied: certifi>=2017.4.17 in /usr/local/lib/python3.7/dist-packages (from requests->transformers) (2022.6.15)\n",
            "Requirement already satisfied: chardet<4,>=3.0.2 in /usr/local/lib/python3.7/dist-packages (from requests->transformers) (3.0.4)\n",
            "Requirement already satisfied: urllib3!=1.25.0,!=1.25.1,<1.26,>=1.21.1 in /usr/local/lib/python3.7/dist-packages (from requests->transformers) (1.25.11)\n",
            "Requirement already satisfied: idna<3,>=2.5 in /usr/local/lib/python3.7/dist-packages (from requests->transformers) (2.10)\n",
            "Looking in indexes: https://pypi.org/simple, https://us-python.pkg.dev/colab-wheels/public/simple/\n",
            "Requirement already satisfied: datasets in /usr/local/lib/python3.7/dist-packages (2.4.0)\n",
            "Requirement already satisfied: requests>=2.19.0 in /usr/local/lib/python3.7/dist-packages (from datasets) (2.23.0)\n",
            "Requirement already satisfied: tqdm>=4.62.1 in /usr/local/lib/python3.7/dist-packages (from datasets) (4.64.0)\n",
            "Requirement already satisfied: aiohttp in /usr/local/lib/python3.7/dist-packages (from datasets) (3.8.1)\n",
            "Requirement already satisfied: responses<0.19 in /usr/local/lib/python3.7/dist-packages (from datasets) (0.18.0)\n",
            "Requirement already satisfied: fsspec[http]>=2021.11.1 in /usr/local/lib/python3.7/dist-packages (from datasets) (2022.7.1)\n",
            "Requirement already satisfied: importlib-metadata in /usr/local/lib/python3.7/dist-packages (from datasets) (4.12.0)\n",
            "Requirement already satisfied: xxhash in /usr/local/lib/python3.7/dist-packages (from datasets) (3.0.0)\n",
            "Requirement already satisfied: dill<0.3.6 in /usr/local/lib/python3.7/dist-packages (from datasets) (0.3.5.1)\n",
            "Requirement already satisfied: numpy>=1.17 in /usr/local/lib/python3.7/dist-packages (from datasets) (1.21.6)\n",
            "Requirement already satisfied: pandas in /usr/local/lib/python3.7/dist-packages (from datasets) (1.3.5)\n",
            "Requirement already satisfied: huggingface-hub<1.0.0,>=0.1.0 in /usr/local/lib/python3.7/dist-packages (from datasets) (0.8.1)\n",
            "Requirement already satisfied: pyarrow>=6.0.0 in /usr/local/lib/python3.7/dist-packages (from datasets) (6.0.1)\n",
            "Requirement already satisfied: multiprocess in /usr/local/lib/python3.7/dist-packages (from datasets) (0.70.13)\n",
            "Requirement already satisfied: packaging in /usr/local/lib/python3.7/dist-packages (from datasets) (21.3)\n",
            "Requirement already satisfied: filelock in /usr/local/lib/python3.7/dist-packages (from huggingface-hub<1.0.0,>=0.1.0->datasets) (3.7.1)\n",
            "Requirement already satisfied: pyyaml>=5.1 in /usr/local/lib/python3.7/dist-packages (from huggingface-hub<1.0.0,>=0.1.0->datasets) (6.0)\n",
            "Requirement already satisfied: typing-extensions>=3.7.4.3 in /usr/local/lib/python3.7/dist-packages (from huggingface-hub<1.0.0,>=0.1.0->datasets) (4.1.1)\n",
            "Requirement already satisfied: pyparsing!=3.0.5,>=2.0.2 in /usr/local/lib/python3.7/dist-packages (from packaging->datasets) (3.0.9)\n",
            "Requirement already satisfied: certifi>=2017.4.17 in /usr/local/lib/python3.7/dist-packages (from requests>=2.19.0->datasets) (2022.6.15)\n",
            "Requirement already satisfied: urllib3!=1.25.0,!=1.25.1,<1.26,>=1.21.1 in /usr/local/lib/python3.7/dist-packages (from requests>=2.19.0->datasets) (1.25.11)\n",
            "Requirement already satisfied: chardet<4,>=3.0.2 in /usr/local/lib/python3.7/dist-packages (from requests>=2.19.0->datasets) (3.0.4)\n",
            "Requirement already satisfied: idna<3,>=2.5 in /usr/local/lib/python3.7/dist-packages (from requests>=2.19.0->datasets) (2.10)\n",
            "Requirement already satisfied: async-timeout<5.0,>=4.0.0a3 in /usr/local/lib/python3.7/dist-packages (from aiohttp->datasets) (4.0.2)\n",
            "Requirement already satisfied: aiosignal>=1.1.2 in /usr/local/lib/python3.7/dist-packages (from aiohttp->datasets) (1.2.0)\n",
            "Requirement already satisfied: asynctest==0.13.0 in /usr/local/lib/python3.7/dist-packages (from aiohttp->datasets) (0.13.0)\n",
            "Requirement already satisfied: yarl<2.0,>=1.0 in /usr/local/lib/python3.7/dist-packages (from aiohttp->datasets) (1.7.2)\n",
            "Requirement already satisfied: frozenlist>=1.1.1 in /usr/local/lib/python3.7/dist-packages (from aiohttp->datasets) (1.3.0)\n",
            "Requirement already satisfied: attrs>=17.3.0 in /usr/local/lib/python3.7/dist-packages (from aiohttp->datasets) (21.4.0)\n",
            "Requirement already satisfied: charset-normalizer<3.0,>=2.0 in /usr/local/lib/python3.7/dist-packages (from aiohttp->datasets) (2.1.0)\n",
            "Requirement already satisfied: multidict<7.0,>=4.5 in /usr/local/lib/python3.7/dist-packages (from aiohttp->datasets) (6.0.2)\n",
            "Requirement already satisfied: zipp>=0.5 in /usr/local/lib/python3.7/dist-packages (from importlib-metadata->datasets) (3.8.1)\n",
            "Requirement already satisfied: pytz>=2017.3 in /usr/local/lib/python3.7/dist-packages (from pandas->datasets) (2022.1)\n",
            "Requirement already satisfied: python-dateutil>=2.7.3 in /usr/local/lib/python3.7/dist-packages (from pandas->datasets) (2.8.2)\n",
            "Requirement already satisfied: six>=1.5 in /usr/local/lib/python3.7/dist-packages (from python-dateutil>=2.7.3->pandas->datasets) (1.15.0)\n"
          ]
        }
      ],
      "source": [
        "!pip install transformers"
      ]
    },
    {
      "cell_type": "markdown",
      "metadata": {
        "id": "3cipxuYQkkJb"
      },
      "source": [
        "## Import dependencies"
      ]
    },
    {
      "cell_type": "code",
      "execution_count": 61,
      "metadata": {
        "colab": {
          "base_uri": "https://localhost:8080/",
          "height": 377
        },
        "id": "4I9eijWrkjuM",
        "outputId": "601f012c-1221-44dd-9e7d-3634e69f0f92"
      },
      "outputs": [
        {
          "ename": "ModuleNotFoundError",
          "evalue": "ignored",
          "output_type": "error",
          "traceback": [
            "\u001b[0;31m---------------------------------------------------------------------------\u001b[0m",
            "\u001b[0;31mModuleNotFoundError\u001b[0m                       Traceback (most recent call last)",
            "\u001b[0;32m<ipython-input-61-171e13397c44>\u001b[0m in \u001b[0;36m<module>\u001b[0;34m()\u001b[0m\n\u001b[1;32m      3\u001b[0m \u001b[0;32mimport\u001b[0m \u001b[0mpandas\u001b[0m \u001b[0;32mas\u001b[0m \u001b[0mpd\u001b[0m\u001b[0;34m\u001b[0m\u001b[0;34m\u001b[0m\u001b[0m\n\u001b[1;32m      4\u001b[0m \u001b[0;32mimport\u001b[0m \u001b[0mnumpy\u001b[0m \u001b[0;32mas\u001b[0m \u001b[0mnp\u001b[0m\u001b[0;34m\u001b[0m\u001b[0;34m\u001b[0m\u001b[0m\n\u001b[0;32m----> 5\u001b[0;31m \u001b[0;32mimport\u001b[0m \u001b[0mevaluation_custom\u001b[0m \u001b[0;32mas\u001b[0m \u001b[0mev\u001b[0m\u001b[0;34m\u001b[0m\u001b[0;34m\u001b[0m\u001b[0m\n\u001b[0m\u001b[1;32m      6\u001b[0m \u001b[0;34m\u001b[0m\u001b[0m\n\u001b[1;32m      7\u001b[0m \u001b[0;32mfrom\u001b[0m \u001b[0mgoogle\u001b[0m\u001b[0;34m.\u001b[0m\u001b[0mcolab\u001b[0m \u001b[0;32mimport\u001b[0m \u001b[0mdrive\u001b[0m\u001b[0;34m\u001b[0m\u001b[0;34m\u001b[0m\u001b[0m\n",
            "\u001b[0;31mModuleNotFoundError\u001b[0m: No module named 'evaluation_custom'",
            "",
            "\u001b[0;31m---------------------------------------------------------------------------\u001b[0;32m\nNOTE: If your import is failing due to a missing package, you can\nmanually install dependencies using either !pip or !apt.\n\nTo view examples of installing some common dependencies, click the\n\"Open Examples\" button below.\n\u001b[0;31m---------------------------------------------------------------------------\u001b[0m\n"
          ]
        }
      ],
      "source": [
        "import json\n",
        "import transformers\n",
        "import pandas as pd\n",
        "import numpy as np\n",
        "import evaluation_custom as ev\n",
        "\n",
        "from google.colab import drive\n",
        "drive.mount(\"/content/drive\")"
      ]
    },
    {
      "cell_type": "markdown",
      "metadata": {
        "id": "B36vWzBInd8Y"
      },
      "source": [
        "## Load data\n"
      ]
    },
    {
      "cell_type": "code",
      "execution_count": 3,
      "metadata": {
        "id": "zbOV26Jxk7ak"
      },
      "outputs": [],
      "source": [
        "# Folder on Google Drive\n",
        "json_file_input = 'training_set.json'\n",
        "FOLDER_NAME = 'SQuAD_data'\n",
        "data_path = \"drive/My Drive/\" + FOLDER_NAME +\"/\"  # Full path to Drive folder\n",
        "path_to_json = data_path + json_file_input"
      ]
    },
    {
      "cell_type": "code",
      "execution_count": 4,
      "metadata": {
        "colab": {
          "base_uri": "https://localhost:8080/"
        },
        "id": "7iK7BqWMt2En",
        "outputId": "e7e0ca33-72ec-4c9f-ff22-700038f53866"
      },
      "outputs": [
        {
          "name": "stdout",
          "output_type": "stream",
          "text": [
            "The input dataset is SQUAD version 1.1\n",
            "lenght input dataset: 442\n"
          ]
        }
      ],
      "source": [
        "with open(path_to_json, 'r') as f:\n",
        "    input_data = json.load(f)\n",
        "\n",
        "print(f'The input dataset is SQUAD version {input_data[\"version\"]}')\n",
        "print(f'lenght input dataset: {len(input_data[\"data\"])}')"
      ]
    },
    {
      "cell_type": "markdown",
      "metadata": {
        "id": "dcM7QkTKvkHT"
      },
      "source": [
        "## Splitting based on the title"
      ]
    },
    {
      "cell_type": "code",
      "execution_count": 34,
      "metadata": {
        "colab": {
          "base_uri": "https://localhost:8080/"
        },
        "id": "Rj9li3SGvm8z",
        "outputId": "47465b6d-287d-437c-b639-4142eac2a91b"
      },
      "outputs": [
        {
          "name": "stdout",
          "output_type": "stream",
          "text": [
            "lenght input data: 442\n"
          ]
        }
      ],
      "source": [
        "# Splitting the dataset into training and validation\n",
        "split = 0.2 # Percentage for the validation + test\n",
        "len_data = len(input_data['data'])\n",
        "print(f\"lenght input data: {len_data}\")\n",
        "\n",
        "len_training = len_data * (1 - split)\n",
        "len_validation = len_training + (len_data * (split / 2))\n",
        "\n",
        "data_training = []\n",
        "data_validation = []\n",
        "data_test = []\n",
        "\n",
        "# Splitting as suggested based on the title\n",
        "for i, article in enumerate(input_data['data']):\n",
        "    # article is a dectionary with keys: title, paragraphs\n",
        "    title = article['title'].strip()\n",
        "\n",
        "    for paragraph in article['paragraphs']:\n",
        "        # paragraph is a dectionary with keys: context, qas\n",
        "        context = paragraph['context'].strip()\n",
        "\n",
        "        for qa in paragraph[\"qas\"]:\n",
        "            # qa is a dectionary with keys: answers, question, id\n",
        "            question = qa[\"question\"].strip()\n",
        "            id_ = qa[\"id\"]\n",
        "\n",
        "            answers_start = [answer[\"answer_start\"] for answer in qa[\"answers\"]]\n",
        "            answers = [answer[\"text\"].strip() for answer in qa[\"answers\"]]\n",
        "\n",
        "            if i <= len_training:\n",
        "                data_training.append({'title': title,\n",
        "                                      'context': context,\n",
        "                                      'question': question,\n",
        "                                      'id': id_,\n",
        "                                      'answers_start': answers_start[0],\n",
        "                                      'answers_text': answers[0]\n",
        "                                      })\n",
        "            elif i > len_training and i <= len_validation:\n",
        "                data_validation.append({'title': title,\n",
        "                                        'context': context,\n",
        "                                        'question': question,\n",
        "                                        'id': id_,\n",
        "                                        'answers_start': answers_start[0],\n",
        "                                        'answers_text': answers[0]\n",
        "                                        })\n",
        "            else:\n",
        "                data_test.append({'title': title,\n",
        "                                  'context': context,\n",
        "                                  'question': question,\n",
        "                                  'id': id_,\n",
        "                                  'answers_start': answers_start[0],\n",
        "                                  'answers_text': answers[0]\n",
        "                                  })\n",
        "\n"
      ]
    },
    {
      "cell_type": "code",
      "execution_count": 36,
      "metadata": {
        "id": "BgJ8mfMhW6b3"
      },
      "outputs": [],
      "source": [
        "train_df = pd.DataFrame(data_training)\n",
        "valid_df = pd.DataFrame(data_validation)\n",
        "test_df = pd.DataFrame(data_test)"
      ]
    },
    {
      "cell_type": "code",
      "execution_count": 38,
      "metadata": {
        "colab": {
          "base_uri": "https://localhost:8080/",
          "height": 424
        },
        "id": "T6urU4tvYI2W",
        "outputId": "08724f80-39c6-4b9b-b5e8-d23730e5ad46"
      },
      "outputs": [
        {
          "data": {
            "text/html": [
              "\n",
              "  <div id=\"df-9182405d-69c2-46a8-be1b-27db6f5322f0\">\n",
              "    <div class=\"colab-df-container\">\n",
              "      <div>\n",
              "<style scoped>\n",
              "    .dataframe tbody tr th:only-of-type {\n",
              "        vertical-align: middle;\n",
              "    }\n",
              "\n",
              "    .dataframe tbody tr th {\n",
              "        vertical-align: top;\n",
              "    }\n",
              "\n",
              "    .dataframe thead th {\n",
              "        text-align: right;\n",
              "    }\n",
              "</style>\n",
              "<table border=\"1\" class=\"dataframe\">\n",
              "  <thead>\n",
              "    <tr style=\"text-align: right;\">\n",
              "      <th></th>\n",
              "      <th>title</th>\n",
              "      <th>context</th>\n",
              "      <th>question</th>\n",
              "      <th>id</th>\n",
              "      <th>answers_start</th>\n",
              "      <th>answers_text</th>\n",
              "    </tr>\n",
              "  </thead>\n",
              "  <tbody>\n",
              "    <tr>\n",
              "      <th>0</th>\n",
              "      <td>University_of_Notre_Dame</td>\n",
              "      <td>Architecturally, the school has a Catholic cha...</td>\n",
              "      <td>To whom did the Virgin Mary allegedly appear i...</td>\n",
              "      <td>5733be284776f41900661182</td>\n",
              "      <td>515</td>\n",
              "      <td>Saint Bernadette Soubirous</td>\n",
              "    </tr>\n",
              "    <tr>\n",
              "      <th>1</th>\n",
              "      <td>University_of_Notre_Dame</td>\n",
              "      <td>Architecturally, the school has a Catholic cha...</td>\n",
              "      <td>What is in front of the Notre Dame Main Building?</td>\n",
              "      <td>5733be284776f4190066117f</td>\n",
              "      <td>188</td>\n",
              "      <td>a copper statue of Christ</td>\n",
              "    </tr>\n",
              "    <tr>\n",
              "      <th>2</th>\n",
              "      <td>University_of_Notre_Dame</td>\n",
              "      <td>Architecturally, the school has a Catholic cha...</td>\n",
              "      <td>The Basilica of the Sacred heart at Notre Dame...</td>\n",
              "      <td>5733be284776f41900661180</td>\n",
              "      <td>279</td>\n",
              "      <td>the Main Building</td>\n",
              "    </tr>\n",
              "    <tr>\n",
              "      <th>3</th>\n",
              "      <td>University_of_Notre_Dame</td>\n",
              "      <td>Architecturally, the school has a Catholic cha...</td>\n",
              "      <td>What is the Grotto at Notre Dame?</td>\n",
              "      <td>5733be284776f41900661181</td>\n",
              "      <td>381</td>\n",
              "      <td>a Marian place of prayer and reflection</td>\n",
              "    </tr>\n",
              "    <tr>\n",
              "      <th>4</th>\n",
              "      <td>University_of_Notre_Dame</td>\n",
              "      <td>Architecturally, the school has a Catholic cha...</td>\n",
              "      <td>What sits on top of the Main Building at Notre...</td>\n",
              "      <td>5733be284776f4190066117e</td>\n",
              "      <td>92</td>\n",
              "      <td>a golden statue of the Virgin Mary</td>\n",
              "    </tr>\n",
              "    <tr>\n",
              "      <th>...</th>\n",
              "      <td>...</td>\n",
              "      <td>...</td>\n",
              "      <td>...</td>\n",
              "      <td>...</td>\n",
              "      <td>...</td>\n",
              "      <td>...</td>\n",
              "    </tr>\n",
              "    <tr>\n",
              "      <th>69387</th>\n",
              "      <td>Empiricism</td>\n",
              "      <td>John Dewey (1859–1952) modified James' pragmat...</td>\n",
              "      <td>Who came up with 'instrumentalism'?</td>\n",
              "      <td>572b459134ae481900dead71</td>\n",
              "      <td>0</td>\n",
              "      <td>John Dewey</td>\n",
              "    </tr>\n",
              "    <tr>\n",
              "      <th>69388</th>\n",
              "      <td>Empiricism</td>\n",
              "      <td>John Dewey (1859–1952) modified James' pragmat...</td>\n",
              "      <td>What did Dewey think about reality?</td>\n",
              "      <td>572b459134ae481900dead72</td>\n",
              "      <td>317</td>\n",
              "      <td>reality is determined by past experience</td>\n",
              "    </tr>\n",
              "    <tr>\n",
              "      <th>69389</th>\n",
              "      <td>Empiricism</td>\n",
              "      <td>John Dewey (1859–1952) modified James' pragmat...</td>\n",
              "      <td>When was Dewey born?</td>\n",
              "      <td>572b459134ae481900dead73</td>\n",
              "      <td>12</td>\n",
              "      <td>1859</td>\n",
              "    </tr>\n",
              "    <tr>\n",
              "      <th>69390</th>\n",
              "      <td>Empiricism</td>\n",
              "      <td>John Dewey (1859–1952) modified James' pragmat...</td>\n",
              "      <td>When did Dewey die?</td>\n",
              "      <td>572b459134ae481900dead74</td>\n",
              "      <td>17</td>\n",
              "      <td>1952</td>\n",
              "    </tr>\n",
              "    <tr>\n",
              "      <th>69391</th>\n",
              "      <td>Empiricism</td>\n",
              "      <td>John Dewey (1859–1952) modified James' pragmat...</td>\n",
              "      <td>What was instrumentalism a modification of?</td>\n",
              "      <td>572b459134ae481900dead75</td>\n",
              "      <td>32</td>\n",
              "      <td>James' pragmatism</td>\n",
              "    </tr>\n",
              "  </tbody>\n",
              "</table>\n",
              "<p>69392 rows × 6 columns</p>\n",
              "</div>\n",
              "      <button class=\"colab-df-convert\" onclick=\"convertToInteractive('df-9182405d-69c2-46a8-be1b-27db6f5322f0')\"\n",
              "              title=\"Convert this dataframe to an interactive table.\"\n",
              "              style=\"display:none;\">\n",
              "        \n",
              "  <svg xmlns=\"http://www.w3.org/2000/svg\" height=\"24px\"viewBox=\"0 0 24 24\"\n",
              "       width=\"24px\">\n",
              "    <path d=\"M0 0h24v24H0V0z\" fill=\"none\"/>\n",
              "    <path d=\"M18.56 5.44l.94 2.06.94-2.06 2.06-.94-2.06-.94-.94-2.06-.94 2.06-2.06.94zm-11 1L8.5 8.5l.94-2.06 2.06-.94-2.06-.94L8.5 2.5l-.94 2.06-2.06.94zm10 10l.94 2.06.94-2.06 2.06-.94-2.06-.94-.94-2.06-.94 2.06-2.06.94z\"/><path d=\"M17.41 7.96l-1.37-1.37c-.4-.4-.92-.59-1.43-.59-.52 0-1.04.2-1.43.59L10.3 9.45l-7.72 7.72c-.78.78-.78 2.05 0 2.83L4 21.41c.39.39.9.59 1.41.59.51 0 1.02-.2 1.41-.59l7.78-7.78 2.81-2.81c.8-.78.8-2.07 0-2.86zM5.41 20L4 18.59l7.72-7.72 1.47 1.35L5.41 20z\"/>\n",
              "  </svg>\n",
              "      </button>\n",
              "      \n",
              "  <style>\n",
              "    .colab-df-container {\n",
              "      display:flex;\n",
              "      flex-wrap:wrap;\n",
              "      gap: 12px;\n",
              "    }\n",
              "\n",
              "    .colab-df-convert {\n",
              "      background-color: #E8F0FE;\n",
              "      border: none;\n",
              "      border-radius: 50%;\n",
              "      cursor: pointer;\n",
              "      display: none;\n",
              "      fill: #1967D2;\n",
              "      height: 32px;\n",
              "      padding: 0 0 0 0;\n",
              "      width: 32px;\n",
              "    }\n",
              "\n",
              "    .colab-df-convert:hover {\n",
              "      background-color: #E2EBFA;\n",
              "      box-shadow: 0px 1px 2px rgba(60, 64, 67, 0.3), 0px 1px 3px 1px rgba(60, 64, 67, 0.15);\n",
              "      fill: #174EA6;\n",
              "    }\n",
              "\n",
              "    [theme=dark] .colab-df-convert {\n",
              "      background-color: #3B4455;\n",
              "      fill: #D2E3FC;\n",
              "    }\n",
              "\n",
              "    [theme=dark] .colab-df-convert:hover {\n",
              "      background-color: #434B5C;\n",
              "      box-shadow: 0px 1px 3px 1px rgba(0, 0, 0, 0.15);\n",
              "      filter: drop-shadow(0px 1px 2px rgba(0, 0, 0, 0.3));\n",
              "      fill: #FFFFFF;\n",
              "    }\n",
              "  </style>\n",
              "\n",
              "      <script>\n",
              "        const buttonEl =\n",
              "          document.querySelector('#df-9182405d-69c2-46a8-be1b-27db6f5322f0 button.colab-df-convert');\n",
              "        buttonEl.style.display =\n",
              "          google.colab.kernel.accessAllowed ? 'block' : 'none';\n",
              "\n",
              "        async function convertToInteractive(key) {\n",
              "          const element = document.querySelector('#df-9182405d-69c2-46a8-be1b-27db6f5322f0');\n",
              "          const dataTable =\n",
              "            await google.colab.kernel.invokeFunction('convertToInteractive',\n",
              "                                                     [key], {});\n",
              "          if (!dataTable) return;\n",
              "\n",
              "          const docLinkHtml = 'Like what you see? Visit the ' +\n",
              "            '<a target=\"_blank\" href=https://colab.research.google.com/notebooks/data_table.ipynb>data table notebook</a>'\n",
              "            + ' to learn more about interactive tables.';\n",
              "          element.innerHTML = '';\n",
              "          dataTable['output_type'] = 'display_data';\n",
              "          await google.colab.output.renderOutput(dataTable, element);\n",
              "          const docLink = document.createElement('div');\n",
              "          docLink.innerHTML = docLinkHtml;\n",
              "          element.appendChild(docLink);\n",
              "        }\n",
              "      </script>\n",
              "    </div>\n",
              "  </div>\n",
              "  "
            ],
            "text/plain": [
              "                          title  \\\n",
              "0      University_of_Notre_Dame   \n",
              "1      University_of_Notre_Dame   \n",
              "2      University_of_Notre_Dame   \n",
              "3      University_of_Notre_Dame   \n",
              "4      University_of_Notre_Dame   \n",
              "...                         ...   \n",
              "69387                Empiricism   \n",
              "69388                Empiricism   \n",
              "69389                Empiricism   \n",
              "69390                Empiricism   \n",
              "69391                Empiricism   \n",
              "\n",
              "                                                 context  \\\n",
              "0      Architecturally, the school has a Catholic cha...   \n",
              "1      Architecturally, the school has a Catholic cha...   \n",
              "2      Architecturally, the school has a Catholic cha...   \n",
              "3      Architecturally, the school has a Catholic cha...   \n",
              "4      Architecturally, the school has a Catholic cha...   \n",
              "...                                                  ...   \n",
              "69387  John Dewey (1859–1952) modified James' pragmat...   \n",
              "69388  John Dewey (1859–1952) modified James' pragmat...   \n",
              "69389  John Dewey (1859–1952) modified James' pragmat...   \n",
              "69390  John Dewey (1859–1952) modified James' pragmat...   \n",
              "69391  John Dewey (1859–1952) modified James' pragmat...   \n",
              "\n",
              "                                                question  \\\n",
              "0      To whom did the Virgin Mary allegedly appear i...   \n",
              "1      What is in front of the Notre Dame Main Building?   \n",
              "2      The Basilica of the Sacred heart at Notre Dame...   \n",
              "3                      What is the Grotto at Notre Dame?   \n",
              "4      What sits on top of the Main Building at Notre...   \n",
              "...                                                  ...   \n",
              "69387                Who came up with 'instrumentalism'?   \n",
              "69388                What did Dewey think about reality?   \n",
              "69389                               When was Dewey born?   \n",
              "69390                                When did Dewey die?   \n",
              "69391        What was instrumentalism a modification of?   \n",
              "\n",
              "                             id  answers_start  \\\n",
              "0      5733be284776f41900661182            515   \n",
              "1      5733be284776f4190066117f            188   \n",
              "2      5733be284776f41900661180            279   \n",
              "3      5733be284776f41900661181            381   \n",
              "4      5733be284776f4190066117e             92   \n",
              "...                         ...            ...   \n",
              "69387  572b459134ae481900dead71              0   \n",
              "69388  572b459134ae481900dead72            317   \n",
              "69389  572b459134ae481900dead73             12   \n",
              "69390  572b459134ae481900dead74             17   \n",
              "69391  572b459134ae481900dead75             32   \n",
              "\n",
              "                                   answers_text  \n",
              "0                    Saint Bernadette Soubirous  \n",
              "1                     a copper statue of Christ  \n",
              "2                             the Main Building  \n",
              "3       a Marian place of prayer and reflection  \n",
              "4            a golden statue of the Virgin Mary  \n",
              "...                                         ...  \n",
              "69387                                John Dewey  \n",
              "69388  reality is determined by past experience  \n",
              "69389                                      1859  \n",
              "69390                                      1952  \n",
              "69391                         James' pragmatism  \n",
              "\n",
              "[69392 rows x 6 columns]"
            ]
          },
          "execution_count": 38,
          "metadata": {},
          "output_type": "execute_result"
        }
      ],
      "source": [
        "train_df"
      ]
    },
    {
      "cell_type": "code",
      "execution_count": 40,
      "metadata": {
        "colab": {
          "base_uri": "https://localhost:8080/"
        },
        "id": "gEAT5HvF65PK",
        "outputId": "776448f0-85a9-407d-fea7-6ee61807267e"
      },
      "outputs": [
        {
          "name": "stdout",
          "output_type": "stream",
          "text": [
            "lenght training: 8646\n",
            "lenght validation: 9561\n",
            "lenght test: 8646\n"
          ]
        }
      ],
      "source": [
        "print(f\"lenght training: {len(test_df)}\")         \n",
        "print(f\"lenght validation: {len(valid_df)}\")\n",
        "print(f\"lenght test: {len(test_df)}\")"
      ]
    },
    {
      "cell_type": "code",
      "execution_count": 82,
      "metadata": {
        "id": "tqw6SBqLJ1ms"
      },
      "outputs": [],
      "source": [
        "figsize = (10,6)"
      ]
    },
    {
      "cell_type": "code",
      "execution_count": 50,
      "metadata": {
        "colab": {
          "base_uri": "https://localhost:8080/",
          "height": 407
        },
        "id": "BKQkrTpcBj9B",
        "outputId": "1da2f7c2-2cf3-4be9-a38a-0ab28a304391"
      },
      "outputs": [
        {
          "data": {
            "text/plain": [
              "<matplotlib.axes._subplots.AxesSubplot at 0x7f9f77b57b50>"
            ]
          },
          "execution_count": 50,
          "metadata": {},
          "output_type": "execute_result"
        },
        {
          "data": {
            "image/png": "[encoded data removed]",
            "text/plain": [
              "<Figure size 720x432 with 1 Axes>"
            ]
          },
          "metadata": {
            "needs_background": "light"
          },
          "output_type": "display_data"
        }
      ],
      "source": [
        "train_df['answers_text'].apply(len).plot.hist(title=\"Distribution of answer lenght in traing data\", bins=25, figsize=figsize, grid=True)"
      ]
    },
    {
      "cell_type": "code",
      "execution_count": 42,
      "metadata": {
        "colab": {
          "base_uri": "https://localhost:8080/",
          "height": 407
        },
        "id": "iMaUpldhCJu1",
        "outputId": "66559b5e-df4d-421c-ac67-2039e8141d8d"
      },
      "outputs": [
        {
          "data": {
            "text/plain": [
              "<matplotlib.axes._subplots.AxesSubplot at 0x7f9fe64ff590>"
            ]
          },
          "execution_count": 42,
          "metadata": {},
          "output_type": "execute_result"
        },
        {
          "data": {
            "image/png": "[encoded data removed]",
            "text/plain": [
              "<Figure size 720x432 with 1 Axes>"
            ]
          },
          "metadata": {
            "needs_background": "light"
          },
          "output_type": "display_data"
        }
      ],
      "source": [
        "test_df['answers_text'].apply(len).plot.hist(title=\"Distribution of answer lenght in test data\", bins=20, figsize=figsize, grid=True)"
      ]
    },
    {
      "cell_type": "code",
      "execution_count": 51,
      "metadata": {
        "colab": {
          "base_uri": "https://localhost:8080/",
          "height": 407
        },
        "id": "dn-MIoyfChZk",
        "outputId": "d886d6fa-2ea2-49e0-907b-6b68135e69d7"
      },
      "outputs": [
        {
          "data": {
            "text/plain": [
              "<matplotlib.axes._subplots.AxesSubplot at 0x7f9f77ab5c90>"
            ]
          },
          "execution_count": 51,
          "metadata": {},
          "output_type": "execute_result"
        },
        {
          "data": {
            "image/png": "[encoded data removed]",
            "text/plain": [
              "<Figure size 720x432 with 1 Axes>"
            ]
          },
          "metadata": {
            "needs_background": "light"
          },
          "output_type": "display_data"
        }
      ],
      "source": [
        "train_df['context'].apply(len).plot.hist(title=\"Distribution of context lenght in traing data\", bins=25, figsize=figsize, grid=True)"
      ]
    },
    {
      "cell_type": "code",
      "execution_count": 54,
      "metadata": {
        "colab": {
          "base_uri": "https://localhost:8080/",
          "height": 407
        },
        "id": "QSpJCo1cEfIc",
        "outputId": "b7ad640c-9c13-4f61-f32a-58c6e03fd0f0"
      },
      "outputs": [
        {
          "data": {
            "text/plain": [
              "<matplotlib.axes._subplots.AxesSubplot at 0x7f9f779f3810>"
            ]
          },
          "execution_count": 54,
          "metadata": {},
          "output_type": "execute_result"
        },
        {
          "data": {
            "image/png": "[encoded data removed]",
            "text/plain": [
              "<Figure size 720x432 with 1 Axes>"
            ]
          },
          "metadata": {
            "needs_background": "light"
          },
          "output_type": "display_data"
        }
      ],
      "source": [
        "test_df['context'].apply(len).plot.hist(title=\"Distribution of context lenght in test data\", bins=25, figsize=figsize, grid=True)"
      ]
    },
    {
      "cell_type": "code",
      "execution_count": 55,
      "metadata": {
        "colab": {
          "base_uri": "https://localhost:8080/",
          "height": 407
        },
        "id": "bTLXB1lUEqMv",
        "outputId": "8684b9b2-65b0-4e3f-9b10-7e8129b74112"
      },
      "outputs": [
        {
          "data": {
            "text/plain": [
              "<matplotlib.axes._subplots.AxesSubplot at 0x7f9f7792d490>"
            ]
          },
          "execution_count": 55,
          "metadata": {},
          "output_type": "execute_result"
        },
        {
          "data": {
            "image/png": "[encoded data removed]",
            "text/plain": [
              "<Figure size 720x432 with 1 Axes>"
            ]
          },
          "metadata": {
            "needs_background": "light"
          },
          "output_type": "display_data"
        }
      ],
      "source": [
        "train_df['question'].apply(len).plot.hist(title=\"Distribution of question lenght in train data\", bins=25, figsize=figsize, grid=True)"
      ]
    },
    {
      "cell_type": "code",
      "execution_count": 59,
      "metadata": {
        "colab": {
          "base_uri": "https://localhost:8080/",
          "height": 407
        },
        "id": "d45naaI6Ey2W",
        "outputId": "c4e623ad-b3e7-43a1-ef44-d010b3862eb5"
      },
      "outputs": [
        {
          "data": {
            "text/plain": [
              "<matplotlib.axes._subplots.AxesSubplot at 0x7f9fe3a8f550>"
            ]
          },
          "execution_count": 59,
          "metadata": {},
          "output_type": "execute_result"
        },
        {
          "data": {
            "image/png": "[encoded data removed]",
            "text/plain": [
              "<Figure size 720x432 with 1 Axes>"
            ]
          },
          "metadata": {
            "needs_background": "light"
          },
          "output_type": "display_data"
        }
      ],
      "source": [
        "test_df['question'].apply(len).plot.hist(title=\"Distribution of question lenght in test data\", bins=25, figsize=figsize, grid=True)"
      ]
    },
    {
      "cell_type": "code",
      "execution_count": 80,
      "metadata": {
        "id": "y9seiqTpHg9j"
      },
      "outputs": [],
      "source": [
        "def find_question_type(df):\n",
        "  len_df = len(df['question'])\n",
        "  \n",
        "  what = len(df[df['question'].str.contains('what', case=False, regex=False)]) \n",
        "  where = len(df[df['question'].str.contains('where', case=False, regex=False)]) \n",
        "  when = len(df[df['question'].str.contains('when', case=False, regex=False)]) \n",
        "  who = len(df[df['question'].str.contains('who', case=False, regex=False)]) \n",
        "  which = len(df[df['question'].str.contains('which', case=False, regex=False)]) \n",
        "  how = len(df[df['question'].str.contains('how', case=False, regex=False)])\n",
        "  whom = len(df[df['question'].str.contains('whom', case=False, regex=False)])\n",
        "  why = len(df[df['question'].str.contains('why', case=False, regex=False)])\n",
        "  \n",
        "  others = len_df - what - where - when - who - which - how - whom - why\n",
        "\n",
        "  # In case of duplicates picked up by contains\n",
        "  if others < 0:\n",
        "    others = 0\n",
        "\n",
        "  return what, where, when, who, which, how, whom, why, others"
      ]
    },
    {
      "cell_type": "code",
      "execution_count": 83,
      "metadata": {
        "colab": {
          "base_uri": "https://localhost:8080/",
          "height": 429
        },
        "id": "h1PD-KoMPRGZ",
        "outputId": "225e12b0-fdae-41f8-fe3f-6db78503e186"
      },
      "outputs": [
        {
          "data": {
            "text/plain": [
              "<matplotlib.axes._subplots.AxesSubplot at 0x7f9f69eb7790>"
            ]
          },
          "execution_count": 83,
          "metadata": {},
          "output_type": "execute_result"
        },
        {
          "data": {
            "image/png": "[encoded data removed]",
            "text/plain": [
              "<Figure size 720x432 with 1 Axes>"
            ]
          },
          "metadata": {
            "needs_background": "light"
          },
          "output_type": "display_data"
        }
      ],
      "source": [
        "question_type = find_question_type(train_df)\n",
        "plotdata = pd.DataFrame({\"question\": question_type}, index=[\"what\", \"where\",\"when\",\"who\",\"which\",\"how\",\"whom\", \"why\", \"others\"])\n",
        "plotdata['question'].plot(kind=\"bar\",title=\"Distribustion of question type in training data\", figsize=figsize)"
      ]
    },
    {
      "cell_type": "code",
      "execution_count": 84,
      "metadata": {
        "colab": {
          "base_uri": "https://localhost:8080/",
          "height": 429
        },
        "id": "TLGAei7cRRyG",
        "outputId": "297a81a8-ca1a-4485-f08a-a67436ba6399"
      },
      "outputs": [
        {
          "data": {
            "text/plain": [
              "<matplotlib.axes._subplots.AxesSubplot at 0x7f9f8dd77fd0>"
            ]
          },
          "execution_count": 84,
          "metadata": {},
          "output_type": "execute_result"
        },
        {
          "data": {
            "image/png": "[encoded data removed]",
            "text/plain": [
              "<Figure size 720x432 with 1 Axes>"
            ]
          },
          "metadata": {
            "needs_background": "light"
          },
          "output_type": "display_data"
        }
      ],
      "source": [
        "question_type = find_question_type(test_df)\n",
        "plotdata = pd.DataFrame({\"question\": question_type}, index=[\"what\", \"where\",\"when\",\"who\",\"which\",\"how\",\"whom\", \"why\", \"others\"])\n",
        "plotdata['question'].plot(kind=\"bar\",title=\"Distribustion of question type in test data\", figsize=figsize)"
      ]
    },
    {
      "cell_type": "markdown",
      "metadata": {
        "id": "Bvl5i4oxSIxI"
      },
      "source": [
        "## Parameters"
      ]
    },
    {
      "cell_type": "code",
      "execution_count": null,
      "metadata": {
        "id": "UP36mKyQSPNh"
      },
      "outputs": [],
      "source": [
        "batch_size = 2\n",
        "learning_rate = 0.00001"
      ]
    },
    {
      "cell_type": "markdown",
      "metadata": {
        "id": "JGIzQ145VuFz"
      },
      "source": [
        "## Preprocessing\n"
      ]
    }
  ],
  "metadata": {
    "colab": {
      "collapsed_sections": [],
      "name": "SQuAD.ipynb",
      "provenance": []
    },
    "kernelspec": {
      "display_name": "Python 3",
      "name": "python3"
    },
    "language_info": {
      "name": "python"
    }
  },
  "nbformat": 4,
  "nbformat_minor": 0
}
